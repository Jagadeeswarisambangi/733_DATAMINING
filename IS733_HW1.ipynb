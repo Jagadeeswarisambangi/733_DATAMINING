{
 "cells": [
  {
   "cell_type": "code",
   "execution_count": 1,
   "id": "0ca9ec9e",
   "metadata": {},
   "outputs": [
    {
     "name": "stderr",
     "output_type": "stream",
     "text": [
      "C:\\Users\\jagad\\AppData\\Local\\Temp\\ipykernel_12788\\916715706.py:7: DtypeWarning: Columns (7) have mixed types. Specify dtype option on import or set low_memory=False.\n",
      "  df = pd.read_csv('C:/Users/jagad/Downloads/Baltimore911.csv')\n"
     ]
    },
    {
     "data": {
      "text/html": [
       "\n",
       "        <iframe\n",
       "            width=\"100%\"\n",
       "            height=\"650\"\n",
       "            src=\"http://127.0.0.1:8080/\"\n",
       "            frameborder=\"0\"\n",
       "            allowfullscreen\n",
       "            \n",
       "        ></iframe>\n",
       "        "
      ],
      "text/plain": [
       "<IPython.lib.display.IFrame at 0x29de1b50850>"
      ]
     },
     "metadata": {},
     "output_type": "display_data"
    }
   ],
   "source": [
    "import dash\n",
    "from dash import html, dcc, Input, Output\n",
    "import pandas as pd\n",
    "import plotly.express as px\n",
    "\n",
    "# Read the CSV file and specify data types for columns (if needed)\n",
    "df = pd.read_csv('C:/Users/jagad/Downloads/Baltimore911.csv')\n",
    "\n",
    "# Convert the 'Date' column to datetime\n",
    "df['CrimeDate'] = pd.to_datetime(df['CrimeDate'])\n",
    "\n",
    "# Extract year, month, and day-of-week from the 'Date' column\n",
    "df['Year'] = df['CrimeDate'].dt.year\n",
    "df['Month'] = df['CrimeDate'].dt.month\n",
    "df['DayOfWeek'] = df['CrimeDate'].dt.dayofweek  # Monday is 0 and Sunday is 6\n",
    "\n",
    "# Create the Dash web application\n",
    "app = dash.Dash(__name__)\n",
    "\n",
    "# Define the layout of the dashboard\n",
    "app.layout = html.Div([\n",
    "    html.H1(\"Crime Exploration Dashboard\"),\n",
    "\n",
    "    # Dropdown for selecting location\n",
    "    dcc.Dropdown(\n",
    "        id='location-dropdown',\n",
    "        options=[{'label': location, 'value': location} for location in df['Location'].unique()],\n",
    "        value=df['Location'].unique()[0],\n",
    "        multi=False,\n",
    "        style={'width': '50%'}\n",
    "    ),\n",
    "\n",
    "    # Line chart for temporal patterns\n",
    "    dcc.Graph(id='temporal-pattern-chart'),\n",
    "\n",
    "    # Bar chart for crime type distribution\n",
    "    dcc.Graph(id='crime-type-distribution-chart')\n",
    "])\n",
    "# Define callback to update charts based on user input\n",
    "@app.callback(\n",
    "    [Output('temporal-pattern-chart', 'figure'),\n",
    "     Output('crime-type-distribution-chart', 'figure')],\n",
    "    [Input('location-dropdown', 'value')]\n",
    ")\n",
    "def update_charts(selected_location):\n",
    "    # Filter data based on selected location\n",
    "    filtered_df = df[df['Location'] == selected_location]\n",
    "\n",
    "    # Temporal pattern chart (Year-to-Year)\n",
    "    yearly_counts = filtered_df.groupby('Year').size().reset_index(name='Incidents')\n",
    "    temporal_pattern_chart = px.line(yearly_counts, x='Year', y='Incidents', title='Year-to-Year Temporal Pattern')\n",
    "\n",
    "    # Crime type distribution chart\n",
    "    crime_type_counts = filtered_df['Description'].value_counts().reset_index(name='Incidents')\n",
    "    crime_type_distribution_chart = px.bar(crime_type_counts, x='Description', y='Incidents', title='Crime Type Distribution')\n",
    "\n",
    "    return temporal_pattern_chart, crime_type_distribution_chart\n",
    "\n",
    "\n",
    "if __name__ == '__main__':\n",
    "    app.run_server(debug=True,port=8080)\n"
   ]
  },
  {
   "cell_type": "code",
   "execution_count": null,
   "id": "5fdf0dff",
   "metadata": {},
   "outputs": [],
   "source": []
  }
 ],
 "metadata": {
  "kernelspec": {
   "display_name": "Python 3 (ipykernel)",
   "language": "python",
   "name": "python3"
  },
  "language_info": {
   "codemirror_mode": {
    "name": "ipython",
    "version": 3
   },
   "file_extension": ".py",
   "mimetype": "text/x-python",
   "name": "python",
   "nbconvert_exporter": "python",
   "pygments_lexer": "ipython3",
   "version": "3.11.4"
  }
 },
 "nbformat": 4,
 "nbformat_minor": 5
}
